{
 "cells": [
  {
   "cell_type": "code",
   "execution_count": 82,
   "id": "1fec330d",
   "metadata": {},
   "outputs": [],
   "source": [
    "import numpy as np\n",
    "import pandas as pd\n",
    "from scipy.stats import uniform, norm, expon"
   ]
  },
  {
   "cell_type": "markdown",
   "id": "dbb4f1d6",
   "metadata": {},
   "source": [
    "# Question 1"
   ]
  },
  {
   "cell_type": "markdown",
   "id": "fdb2d5e5",
   "metadata": {},
   "source": [
    "Branch banks must keep enough money on hand to satisfy customers' cash demands. An\n",
    "armored truck delivers cash to the bank once a week. The bank manager can choose the\n",
    "amount of weekly cash to have delivered. Running out of cash during the week is terrible\n",
    "customer service and the manager wants to avoid this. On the other hand, keeping excessive\n",
    "cash reserves costs the bank profits, since cash is a non-interest earning asset.\n",
    "\n",
    "\n",
    "The daily demand for cash at this particular bank follows a normal distribution with daily means and std dev summarized in Table 1.\n",
    "\n",
    "**Table 1:**\n",
    "\n",
    "|Info|Monday|Tuesday|Wednesday|Thursday|Friday|Saturday|Sunday|\n",
    "|----|------|-------|---------|--------|------|--------|------|\n",
    "|Mean (\\\\$1,000s)|175|120|90|60|120|140|65|\n",
    "|Std_Dev (\\\\$1,000s)|26|18|13|9|18|21|9|\n"
   ]
  },
  {
   "cell_type": "markdown",
   "id": "f21bafce",
   "metadata": {},
   "source": [
    "### (a)"
   ]
  },
  {
   "cell_type": "code",
   "execution_count": 58,
   "id": "4d6adc60",
   "metadata": {},
   "outputs": [],
   "source": [
    "daily = {'Monday':{'Mean': 175, \"Std\": 26},\n",
    "        'Tuesday':{'Mean': 120, \"Std\": 18},\n",
    "        'Wednesday':{'Mean': 90, \"Std\": 13},\n",
    "        'Thursday':{'Mean': 60, \"Std\": 9},\n",
    "        'Friday':{'Mean': 120, \"Std\": 18},\n",
    "        'Saturday':{'Mean': 140, \"Std\": 21},\n",
    "        'Sunday':{'Mean': 65, \"Std\": 9}}\n",
    "\n",
    "\n",
    "df = pd.DataFrame(daily)*1000\n"
   ]
  },
  {
   "cell_type": "code",
   "execution_count": 59,
   "id": "5be2e2af",
   "metadata": {
    "scrolled": false
   },
   "outputs": [
    {
     "data": {
      "text/html": [
       "<div>\n",
       "<style scoped>\n",
       "    .dataframe tbody tr th:only-of-type {\n",
       "        vertical-align: middle;\n",
       "    }\n",
       "\n",
       "    .dataframe tbody tr th {\n",
       "        vertical-align: top;\n",
       "    }\n",
       "\n",
       "    .dataframe thead th {\n",
       "        text-align: right;\n",
       "    }\n",
       "</style>\n",
       "<table border=\"1\" class=\"dataframe\">\n",
       "  <thead>\n",
       "    <tr style=\"text-align: right;\">\n",
       "      <th></th>\n",
       "      <th>Begin</th>\n",
       "      <th>Monday</th>\n",
       "      <th>Tuesday</th>\n",
       "      <th>Wednesday</th>\n",
       "      <th>Thursday</th>\n",
       "      <th>Friday</th>\n",
       "      <th>Saturday</th>\n",
       "      <th>Sunday</th>\n",
       "    </tr>\n",
       "  </thead>\n",
       "  <tbody>\n",
       "    <tr>\n",
       "      <th>1</th>\n",
       "      <td>825000.0</td>\n",
       "      <td>638283.822689</td>\n",
       "      <td>532629.681394</td>\n",
       "      <td>466886.889368</td>\n",
       "      <td>408371.427039</td>\n",
       "      <td>330003.263185</td>\n",
       "      <td>131500.216712</td>\n",
       "      <td>85732.465277</td>\n",
       "    </tr>\n",
       "    <tr>\n",
       "      <th>2</th>\n",
       "      <td>825000.0</td>\n",
       "      <td>642045.994945</td>\n",
       "      <td>518941.574362</td>\n",
       "      <td>433351.965881</td>\n",
       "      <td>372088.082190</td>\n",
       "      <td>254644.549847</td>\n",
       "      <td>156767.601934</td>\n",
       "      <td>80021.096505</td>\n",
       "    </tr>\n",
       "    <tr>\n",
       "      <th>3</th>\n",
       "      <td>825000.0</td>\n",
       "      <td>664396.822943</td>\n",
       "      <td>525568.860157</td>\n",
       "      <td>410482.504825</td>\n",
       "      <td>345482.576462</td>\n",
       "      <td>250116.865890</td>\n",
       "      <td>74486.697389</td>\n",
       "      <td>13554.425454</td>\n",
       "    </tr>\n",
       "    <tr>\n",
       "      <th>4</th>\n",
       "      <td>825000.0</td>\n",
       "      <td>667781.355873</td>\n",
       "      <td>541694.800709</td>\n",
       "      <td>432606.514755</td>\n",
       "      <td>389341.892504</td>\n",
       "      <td>264704.567488</td>\n",
       "      <td>129633.801852</td>\n",
       "      <td>61024.033772</td>\n",
       "    </tr>\n",
       "    <tr>\n",
       "      <th>5</th>\n",
       "      <td>825000.0</td>\n",
       "      <td>657851.011790</td>\n",
       "      <td>535459.416010</td>\n",
       "      <td>452212.940897</td>\n",
       "      <td>386454.686193</td>\n",
       "      <td>291998.088771</td>\n",
       "      <td>172826.523502</td>\n",
       "      <td>111994.092500</td>\n",
       "    </tr>\n",
       "    <tr>\n",
       "      <th>...</th>\n",
       "      <td>...</td>\n",
       "      <td>...</td>\n",
       "      <td>...</td>\n",
       "      <td>...</td>\n",
       "      <td>...</td>\n",
       "      <td>...</td>\n",
       "      <td>...</td>\n",
       "      <td>...</td>\n",
       "    </tr>\n",
       "    <tr>\n",
       "      <th>9996</th>\n",
       "      <td>825000.0</td>\n",
       "      <td>679413.017089</td>\n",
       "      <td>569128.712065</td>\n",
       "      <td>489701.491199</td>\n",
       "      <td>422660.485143</td>\n",
       "      <td>305947.813465</td>\n",
       "      <td>146174.916163</td>\n",
       "      <td>88952.627227</td>\n",
       "    </tr>\n",
       "    <tr>\n",
       "      <th>9997</th>\n",
       "      <td>825000.0</td>\n",
       "      <td>626398.869276</td>\n",
       "      <td>529794.402867</td>\n",
       "      <td>436692.110923</td>\n",
       "      <td>376047.019569</td>\n",
       "      <td>261174.831393</td>\n",
       "      <td>144621.647562</td>\n",
       "      <td>86339.812220</td>\n",
       "    </tr>\n",
       "    <tr>\n",
       "      <th>9998</th>\n",
       "      <td>825000.0</td>\n",
       "      <td>696906.348611</td>\n",
       "      <td>571880.761870</td>\n",
       "      <td>459431.469984</td>\n",
       "      <td>386992.446774</td>\n",
       "      <td>306066.601370</td>\n",
       "      <td>143958.405453</td>\n",
       "      <td>92430.473279</td>\n",
       "    </tr>\n",
       "    <tr>\n",
       "      <th>9999</th>\n",
       "      <td>825000.0</td>\n",
       "      <td>596569.292631</td>\n",
       "      <td>475361.112516</td>\n",
       "      <td>371748.622718</td>\n",
       "      <td>324638.227006</td>\n",
       "      <td>231945.619725</td>\n",
       "      <td>93073.413837</td>\n",
       "      <td>28440.204460</td>\n",
       "    </tr>\n",
       "    <tr>\n",
       "      <th>10000</th>\n",
       "      <td>825000.0</td>\n",
       "      <td>638110.967066</td>\n",
       "      <td>533546.745759</td>\n",
       "      <td>436740.893838</td>\n",
       "      <td>384710.601626</td>\n",
       "      <td>282811.541457</td>\n",
       "      <td>133515.920395</td>\n",
       "      <td>75311.538330</td>\n",
       "    </tr>\n",
       "  </tbody>\n",
       "</table>\n",
       "<p>10000 rows × 8 columns</p>\n",
       "</div>"
      ],
      "text/plain": [
       "          Begin         Monday        Tuesday      Wednesday       Thursday  \\\n",
       "1      825000.0  638283.822689  532629.681394  466886.889368  408371.427039   \n",
       "2      825000.0  642045.994945  518941.574362  433351.965881  372088.082190   \n",
       "3      825000.0  664396.822943  525568.860157  410482.504825  345482.576462   \n",
       "4      825000.0  667781.355873  541694.800709  432606.514755  389341.892504   \n",
       "5      825000.0  657851.011790  535459.416010  452212.940897  386454.686193   \n",
       "...         ...            ...            ...            ...            ...   \n",
       "9996   825000.0  679413.017089  569128.712065  489701.491199  422660.485143   \n",
       "9997   825000.0  626398.869276  529794.402867  436692.110923  376047.019569   \n",
       "9998   825000.0  696906.348611  571880.761870  459431.469984  386992.446774   \n",
       "9999   825000.0  596569.292631  475361.112516  371748.622718  324638.227006   \n",
       "10000  825000.0  638110.967066  533546.745759  436740.893838  384710.601626   \n",
       "\n",
       "              Friday       Saturday         Sunday  \n",
       "1      330003.263185  131500.216712   85732.465277  \n",
       "2      254644.549847  156767.601934   80021.096505  \n",
       "3      250116.865890   74486.697389   13554.425454  \n",
       "4      264704.567488  129633.801852   61024.033772  \n",
       "5      291998.088771  172826.523502  111994.092500  \n",
       "...              ...            ...            ...  \n",
       "9996   305947.813465  146174.916163   88952.627227  \n",
       "9997   261174.831393  144621.647562   86339.812220  \n",
       "9998   306066.601370  143958.405453   92430.473279  \n",
       "9999   231945.619725   93073.413837   28440.204460  \n",
       "10000  282811.541457  133515.920395   75311.538330  \n",
       "\n",
       "[10000 rows x 8 columns]"
      ]
     },
     "execution_count": 59,
     "metadata": {},
     "output_type": "execute_result"
    }
   ],
   "source": [
    "begin_cash = 825000\n",
    "num_trails = 10000\n",
    "\n",
    "daily_model = pd.DataFrame(columns = df.columns)\n",
    "daily_model.insert(0,'Begin', '')\n",
    "daily_model\n",
    "\n",
    "for t in np.arange(1, num_trails + 1):\n",
    "    cash_daily = [begin_cash]\n",
    "    for y in np.arange(1,8):\n",
    "        cash_daily.append(cash_daily[y-1] - norm.rvs(size = 1, loc = df.iloc[0,y-1], scale = df.iloc[1,y-1]).item())\n",
    "    \n",
    "    daily_model.loc[t] = cash_daily       \n",
    "daily_model\n",
    "        "
   ]
  },
  {
   "cell_type": "code",
   "execution_count": 60,
   "id": "e892c182",
   "metadata": {},
   "outputs": [
    {
     "data": {
      "text/html": [
       "<div>\n",
       "<style scoped>\n",
       "    .dataframe tbody tr th:only-of-type {\n",
       "        vertical-align: middle;\n",
       "    }\n",
       "\n",
       "    .dataframe tbody tr th {\n",
       "        vertical-align: top;\n",
       "    }\n",
       "\n",
       "    .dataframe thead th {\n",
       "        text-align: right;\n",
       "    }\n",
       "</style>\n",
       "<table border=\"1\" class=\"dataframe\">\n",
       "  <thead>\n",
       "    <tr style=\"text-align: right;\">\n",
       "      <th></th>\n",
       "      <th>Prob_of_running_out</th>\n",
       "    </tr>\n",
       "  </thead>\n",
       "  <tbody>\n",
       "    <tr>\n",
       "      <th>Monday</th>\n",
       "      <td>NaN</td>\n",
       "    </tr>\n",
       "    <tr>\n",
       "      <th>Tuesday</th>\n",
       "      <td>NaN</td>\n",
       "    </tr>\n",
       "    <tr>\n",
       "      <th>Wednesday</th>\n",
       "      <td>NaN</td>\n",
       "    </tr>\n",
       "    <tr>\n",
       "      <th>Thursday</th>\n",
       "      <td>NaN</td>\n",
       "    </tr>\n",
       "    <tr>\n",
       "      <th>Friday</th>\n",
       "      <td>NaN</td>\n",
       "    </tr>\n",
       "    <tr>\n",
       "      <th>Saturday</th>\n",
       "      <td>NaN</td>\n",
       "    </tr>\n",
       "    <tr>\n",
       "      <th>Sunday</th>\n",
       "      <td>NaN</td>\n",
       "    </tr>\n",
       "  </tbody>\n",
       "</table>\n",
       "</div>"
      ],
      "text/plain": [
       "          Prob_of_running_out\n",
       "Monday                    NaN\n",
       "Tuesday                   NaN\n",
       "Wednesday                 NaN\n",
       "Thursday                  NaN\n",
       "Friday                    NaN\n",
       "Saturday                  NaN\n",
       "Sunday                    NaN"
      ]
     },
     "execution_count": 60,
     "metadata": {},
     "output_type": "execute_result"
    }
   ],
   "source": [
    "running_out_prob = pd.DataFrame(columns = ['Prob_of_running_out'], index = df.columns)\n",
    "running_out_prob"
   ]
  },
  {
   "cell_type": "code",
   "execution_count": 61,
   "id": "d702932a",
   "metadata": {},
   "outputs": [],
   "source": [
    "for k in running_out_prob.index:\n",
    "    running_out_prob.loc[k,'Prob_of_running_out'] = sum(daily_model[k] < 0)/len(daily_model[k])\n"
   ]
  },
  {
   "cell_type": "code",
   "execution_count": 62,
   "id": "1d31c4ad",
   "metadata": {
    "scrolled": true
   },
   "outputs": [
    {
     "data": {
      "text/html": [
       "<div>\n",
       "<style scoped>\n",
       "    .dataframe tbody tr th:only-of-type {\n",
       "        vertical-align: middle;\n",
       "    }\n",
       "\n",
       "    .dataframe tbody tr th {\n",
       "        vertical-align: top;\n",
       "    }\n",
       "\n",
       "    .dataframe thead th {\n",
       "        text-align: right;\n",
       "    }\n",
       "</style>\n",
       "<table border=\"1\" class=\"dataframe\">\n",
       "  <thead>\n",
       "    <tr style=\"text-align: right;\">\n",
       "      <th></th>\n",
       "      <th>Prob_of_running_out</th>\n",
       "    </tr>\n",
       "  </thead>\n",
       "  <tbody>\n",
       "    <tr>\n",
       "      <th>Monday</th>\n",
       "      <td>0.0</td>\n",
       "    </tr>\n",
       "    <tr>\n",
       "      <th>Tuesday</th>\n",
       "      <td>0.0</td>\n",
       "    </tr>\n",
       "    <tr>\n",
       "      <th>Wednesday</th>\n",
       "      <td>0.0</td>\n",
       "    </tr>\n",
       "    <tr>\n",
       "      <th>Thursday</th>\n",
       "      <td>0.0</td>\n",
       "    </tr>\n",
       "    <tr>\n",
       "      <th>Friday</th>\n",
       "      <td>0.0</td>\n",
       "    </tr>\n",
       "    <tr>\n",
       "      <th>Saturday</th>\n",
       "      <td>0.0039</td>\n",
       "    </tr>\n",
       "    <tr>\n",
       "      <th>Sunday</th>\n",
       "      <td>0.1152</td>\n",
       "    </tr>\n",
       "  </tbody>\n",
       "</table>\n",
       "</div>"
      ],
      "text/plain": [
       "          Prob_of_running_out\n",
       "Monday                    0.0\n",
       "Tuesday                   0.0\n",
       "Wednesday                 0.0\n",
       "Thursday                  0.0\n",
       "Friday                    0.0\n",
       "Saturday               0.0039\n",
       "Sunday                 0.1152"
      ]
     },
     "execution_count": 62,
     "metadata": {},
     "output_type": "execute_result"
    }
   ],
   "source": [
    "running_out_prob"
   ]
  },
  {
   "cell_type": "code",
   "execution_count": 63,
   "id": "5dc7124f",
   "metadata": {
    "scrolled": true
   },
   "outputs": [
    {
     "data": {
      "text/plain": [
       "0.1191"
      ]
     },
     "execution_count": 63,
     "metadata": {},
     "output_type": "execute_result"
    }
   ],
   "source": [
    "sum(running_out_prob['Prob_of_running_out'])"
   ]
  },
  {
   "cell_type": "markdown",
   "id": "a0deefa5",
   "metadata": {},
   "source": [
    "The total probability of the bank running out of money is around 11.91%."
   ]
  },
  {
   "cell_type": "markdown",
   "id": "f81bb67b",
   "metadata": {},
   "source": [
    "### (b)"
   ]
  },
  {
   "cell_type": "markdown",
   "id": "67043911",
   "metadata": {},
   "source": [
    "### Trying some big numbers\n",
    "- begin_cash = 860,000"
   ]
  },
  {
   "cell_type": "code",
   "execution_count": 64,
   "id": "6c909ce8",
   "metadata": {
    "scrolled": true
   },
   "outputs": [
    {
     "data": {
      "text/html": [
       "<div>\n",
       "<style scoped>\n",
       "    .dataframe tbody tr th:only-of-type {\n",
       "        vertical-align: middle;\n",
       "    }\n",
       "\n",
       "    .dataframe tbody tr th {\n",
       "        vertical-align: top;\n",
       "    }\n",
       "\n",
       "    .dataframe thead th {\n",
       "        text-align: right;\n",
       "    }\n",
       "</style>\n",
       "<table border=\"1\" class=\"dataframe\">\n",
       "  <thead>\n",
       "    <tr style=\"text-align: right;\">\n",
       "      <th></th>\n",
       "      <th>Prob_of_running_out</th>\n",
       "    </tr>\n",
       "  </thead>\n",
       "  <tbody>\n",
       "    <tr>\n",
       "      <th>Monday</th>\n",
       "      <td>0.0</td>\n",
       "    </tr>\n",
       "    <tr>\n",
       "      <th>Tuesday</th>\n",
       "      <td>0.0</td>\n",
       "    </tr>\n",
       "    <tr>\n",
       "      <th>Wednesday</th>\n",
       "      <td>0.0</td>\n",
       "    </tr>\n",
       "    <tr>\n",
       "      <th>Thursday</th>\n",
       "      <td>0.0</td>\n",
       "    </tr>\n",
       "    <tr>\n",
       "      <th>Friday</th>\n",
       "      <td>0.0</td>\n",
       "    </tr>\n",
       "    <tr>\n",
       "      <th>Saturday</th>\n",
       "      <td>0.0002</td>\n",
       "    </tr>\n",
       "    <tr>\n",
       "      <th>Sunday</th>\n",
       "      <td>0.0265</td>\n",
       "    </tr>\n",
       "  </tbody>\n",
       "</table>\n",
       "</div>"
      ],
      "text/plain": [
       "          Prob_of_running_out\n",
       "Monday                    0.0\n",
       "Tuesday                   0.0\n",
       "Wednesday                 0.0\n",
       "Thursday                  0.0\n",
       "Friday                    0.0\n",
       "Saturday               0.0002\n",
       "Sunday                 0.0265"
      ]
     },
     "execution_count": 64,
     "metadata": {},
     "output_type": "execute_result"
    }
   ],
   "source": [
    "begin_cash = 860000\n",
    "num_trails = 10000\n",
    "\n",
    "daily_model = pd.DataFrame(columns = df.columns)\n",
    "daily_model.insert(0,'Begin', '')\n",
    "for t in np.arange(1, num_trails + 1):\n",
    "    cash_daily = [begin_cash]\n",
    "    for y in np.arange(1,8):\n",
    "        cash_daily.append(cash_daily[y-1] - norm.rvs(size = 1, loc = df.iloc[0,y-1], scale = df.iloc[1,y-1]).item())\n",
    "    \n",
    "    daily_model.loc[t] = cash_daily\n",
    "    \n",
    "running_out_prob = pd.DataFrame(columns = ['Prob_of_running_out'], index = df.columns)\n",
    "for k in running_out_prob.index:\n",
    "    running_out_prob.loc[k,'Prob_of_running_out'] = sum(daily_model[k] < 0)/len(daily_model[k])\n",
    "\n",
    "running_out_prob"
   ]
  },
  {
   "cell_type": "code",
   "execution_count": 65,
   "id": "54ce4fef",
   "metadata": {
    "scrolled": false
   },
   "outputs": [
    {
     "data": {
      "text/plain": [
       "0.026699999999999998"
      ]
     },
     "execution_count": 65,
     "metadata": {},
     "output_type": "execute_result"
    }
   ],
   "source": [
    "sum(running_out_prob['Prob_of_running_out'])"
   ]
  },
  {
   "cell_type": "markdown",
   "id": "c92fde38",
   "metadata": {},
   "source": [
    "The sum of probability of running out is around 2.67% in 10,000 trails."
   ]
  },
  {
   "cell_type": "markdown",
   "id": "06f42ba7",
   "metadata": {},
   "source": [
    "- begin_cash = 865,000"
   ]
  },
  {
   "cell_type": "code",
   "execution_count": 44,
   "id": "33c23aa3",
   "metadata": {},
   "outputs": [
    {
     "data": {
      "text/html": [
       "<div>\n",
       "<style scoped>\n",
       "    .dataframe tbody tr th:only-of-type {\n",
       "        vertical-align: middle;\n",
       "    }\n",
       "\n",
       "    .dataframe tbody tr th {\n",
       "        vertical-align: top;\n",
       "    }\n",
       "\n",
       "    .dataframe thead th {\n",
       "        text-align: right;\n",
       "    }\n",
       "</style>\n",
       "<table border=\"1\" class=\"dataframe\">\n",
       "  <thead>\n",
       "    <tr style=\"text-align: right;\">\n",
       "      <th></th>\n",
       "      <th>Prob_of_running_out</th>\n",
       "    </tr>\n",
       "  </thead>\n",
       "  <tbody>\n",
       "    <tr>\n",
       "      <th>Monday</th>\n",
       "      <td>0.0</td>\n",
       "    </tr>\n",
       "    <tr>\n",
       "      <th>Tuesday</th>\n",
       "      <td>0.0</td>\n",
       "    </tr>\n",
       "    <tr>\n",
       "      <th>Wednesday</th>\n",
       "      <td>0.0</td>\n",
       "    </tr>\n",
       "    <tr>\n",
       "      <th>Thursday</th>\n",
       "      <td>0.0</td>\n",
       "    </tr>\n",
       "    <tr>\n",
       "      <th>Friday</th>\n",
       "      <td>0.0</td>\n",
       "    </tr>\n",
       "    <tr>\n",
       "      <th>Saturday</th>\n",
       "      <td>0.0005</td>\n",
       "    </tr>\n",
       "    <tr>\n",
       "      <th>Sunday</th>\n",
       "      <td>0.0212</td>\n",
       "    </tr>\n",
       "  </tbody>\n",
       "</table>\n",
       "</div>"
      ],
      "text/plain": [
       "          Prob_of_running_out\n",
       "Monday                    0.0\n",
       "Tuesday                   0.0\n",
       "Wednesday                 0.0\n",
       "Thursday                  0.0\n",
       "Friday                    0.0\n",
       "Saturday               0.0005\n",
       "Sunday                 0.0212"
      ]
     },
     "execution_count": 44,
     "metadata": {},
     "output_type": "execute_result"
    }
   ],
   "source": [
    "begin_cash = 865000\n",
    "num_trails = 10000\n",
    "\n",
    "daily_model = pd.DataFrame(columns = df.columns)\n",
    "daily_model.insert(0,'Begin', '')\n",
    "for t in np.arange(1, num_trails + 1):\n",
    "    cash_daily = [begin_cash]\n",
    "    for y in np.arange(1,8):\n",
    "        cash_daily.append(cash_daily[y-1] - norm.rvs(size = 1, loc = df.iloc[0,y-1], scale = df.iloc[1,y-1]).item())\n",
    "    \n",
    "    daily_model.loc[t] = cash_daily\n",
    "    \n",
    "running_out_prob = pd.DataFrame(columns = ['Prob_of_running_out'], index = df.columns)\n",
    "for k in running_out_prob.index:\n",
    "    running_out_prob.loc[k,'Prob_of_running_out'] = sum(daily_model[k] < 0)/len(daily_model[k])\n",
    "\n",
    "running_out_prob"
   ]
  },
  {
   "cell_type": "code",
   "execution_count": 45,
   "id": "950d09c8",
   "metadata": {},
   "outputs": [
    {
     "data": {
      "text/plain": [
       "0.0217"
      ]
     },
     "execution_count": 45,
     "metadata": {},
     "output_type": "execute_result"
    }
   ],
   "source": [
    "sum(running_out_prob['Prob_of_running_out'])"
   ]
  },
  {
   "cell_type": "markdown",
   "id": "6fb2533c",
   "metadata": {},
   "source": [
    "The sum of probability of running out is around 2.17% in 10,000 trails."
   ]
  },
  {
   "cell_type": "markdown",
   "id": "3c980991",
   "metadata": {},
   "source": [
    "- begin_cash = 870,000"
   ]
  },
  {
   "cell_type": "code",
   "execution_count": 84,
   "id": "cd15b7f7",
   "metadata": {},
   "outputs": [
    {
     "data": {
      "text/plain": [
       "0.012799999999999999"
      ]
     },
     "execution_count": 84,
     "metadata": {},
     "output_type": "execute_result"
    }
   ],
   "source": [
    "begin_cash = 870000\n",
    "num_trails = 10000\n",
    "\n",
    "daily_model = pd.DataFrame(columns = df.columns)\n",
    "daily_model.insert(0,'Begin', '')\n",
    "for t in np.arange(1, num_trails + 1):\n",
    "    cash_daily = [begin_cash]\n",
    "    for y in np.arange(1,8):\n",
    "        cash_daily.append(cash_daily[y-1] - norm.rvs(size = 1, loc = df.iloc[0,y-1], scale = df.iloc[1,y-1]).item())\n",
    "    \n",
    "    daily_model.loc[t] = cash_daily\n",
    "    \n",
    "running_out_prob = pd.DataFrame(columns = ['Prob_of_running_out'], index = df.columns)\n",
    "for k in running_out_prob.index:\n",
    "    running_out_prob.loc[k,'Prob_of_running_out'] = sum(daily_model[k] < 0)/len(daily_model[k])\n",
    "\n",
    "sum(running_out_prob['Prob_of_running_out'])"
   ]
  },
  {
   "cell_type": "markdown",
   "id": "da503492",
   "metadata": {},
   "source": [
    "The sum of probability of running out is around 1.28% in 10,000 trails. Therefore, the range of amount of money needed at the start of the week to ensure that there is at most a 2.0% probability of running out of money is in (865,000,870,000). Let's find a more accurate number!!!"
   ]
  },
  {
   "cell_type": "code",
   "execution_count": 86,
   "id": "a779bbaa",
   "metadata": {
    "scrolled": true
   },
   "outputs": [
    {
     "data": {
      "text/html": [
       "<div>\n",
       "<style scoped>\n",
       "    .dataframe tbody tr th:only-of-type {\n",
       "        vertical-align: middle;\n",
       "    }\n",
       "\n",
       "    .dataframe tbody tr th {\n",
       "        vertical-align: top;\n",
       "    }\n",
       "\n",
       "    .dataframe thead th {\n",
       "        text-align: right;\n",
       "    }\n",
       "</style>\n",
       "<table border=\"1\" class=\"dataframe\">\n",
       "  <thead>\n",
       "    <tr style=\"text-align: right;\">\n",
       "      <th></th>\n",
       "      <th>Prob_of_running_out</th>\n",
       "    </tr>\n",
       "  </thead>\n",
       "  <tbody>\n",
       "    <tr>\n",
       "      <th>865000</th>\n",
       "      <td>0.0189</td>\n",
       "    </tr>\n",
       "    <tr>\n",
       "      <th>865500</th>\n",
       "      <td>0.0206</td>\n",
       "    </tr>\n",
       "    <tr>\n",
       "      <th>866000</th>\n",
       "      <td>0.0184</td>\n",
       "    </tr>\n",
       "    <tr>\n",
       "      <th>866500</th>\n",
       "      <td>0.0198</td>\n",
       "    </tr>\n",
       "    <tr>\n",
       "      <th>867000</th>\n",
       "      <td>0.0202</td>\n",
       "    </tr>\n",
       "    <tr>\n",
       "      <th>867500</th>\n",
       "      <td>0.0221</td>\n",
       "    </tr>\n",
       "    <tr>\n",
       "      <th>868000</th>\n",
       "      <td>0.0198</td>\n",
       "    </tr>\n",
       "    <tr>\n",
       "      <th>868500</th>\n",
       "      <td>0.0188</td>\n",
       "    </tr>\n",
       "    <tr>\n",
       "      <th>869000</th>\n",
       "      <td>0.0175</td>\n",
       "    </tr>\n",
       "    <tr>\n",
       "      <th>869500</th>\n",
       "      <td>0.0198</td>\n",
       "    </tr>\n",
       "  </tbody>\n",
       "</table>\n",
       "</div>"
      ],
      "text/plain": [
       "       Prob_of_running_out\n",
       "865000              0.0189\n",
       "865500              0.0206\n",
       "866000              0.0184\n",
       "866500              0.0198\n",
       "867000              0.0202\n",
       "867500              0.0221\n",
       "868000              0.0198\n",
       "868500              0.0188\n",
       "869000              0.0175\n",
       "869500              0.0198"
      ]
     },
     "execution_count": 86,
     "metadata": {},
     "output_type": "execute_result"
    }
   ],
   "source": [
    "begin_cash = 865000\n",
    "num_trails = 10000\n",
    "\n",
    "\n",
    "begin_cash_range = np.arange(865000,870000,500)\n",
    "running_out_prob_b = pd.DataFrame(columns = ['Prob_of_running_out'], index = begin_cash_range)\n",
    "\n",
    "for i in begin_cash_range:\n",
    "    daily_model = pd.DataFrame(columns = df.columns)\n",
    "    daily_model.insert(0,'Begin', '')\n",
    "    for t in np.arange(1, num_trails + 1):\n",
    "        cash_daily = [begin_cash]\n",
    "        for y in np.arange(1,8):\n",
    "            cash_daily.append(cash_daily[y-1] - norm.rvs(size = 1, loc = df.iloc[0,y-1], scale = df.iloc[1,y-1]).item())\n",
    "    \n",
    "        daily_model.loc[t] = cash_daily\n",
    "    \n",
    "    running_out_prob = pd.DataFrame(columns = ['Prob_of_running_out'], index = df.columns)\n",
    "    for k in running_out_prob.index:\n",
    "        running_out_prob.loc[k,'Prob_of_running_out'] = sum(daily_model[k] < 0)/len(daily_model[k])\n",
    "    running_out_prob_b.loc[i,'Prob_of_running_out'] = sum(running_out_prob['Prob_of_running_out'])\n",
    "    \n",
    "running_out_prob_b"
   ]
  },
  {
   "cell_type": "markdown",
   "id": "e74c8153",
   "metadata": {},
   "source": [
    "The amount of money needed at the start of the week to ensure that there is at most a\n",
    "2.0% probability of running out of money is around 867,000."
   ]
  },
  {
   "cell_type": "markdown",
   "id": "9f8056aa",
   "metadata": {},
   "source": [
    "# Question 2"
   ]
  },
  {
   "cell_type": "markdown",
   "id": "9ef03ca1",
   "metadata": {},
   "source": [
    "Winning the pass bet in the dice game Craps follows the following rules:\n",
    "- Player rolls the two dice (the “come out” roll).\n",
    "- If the first roll (total of both dice) is a 7 or 11, the pass bet wins.\n",
    "- If the first roll is a 2, 3 or 12, the pass bet loses.\n",
    "- If any other total is rolled, the player rolls again repeated until one of the following…\n",
    "    - If the player rolls the same total as the first (come out) roll, the pass bet wins.\n",
    "    - If the player rolls a 7, the pass bet loses."
   ]
  },
  {
   "attachments": {
    "%E6%88%AA%E5%B1%8F2022-02-21%20%E4%B8%8A%E5%8D%881.34.45.png": {
     "image/png": "[encoded data removed]"
    }
   },
   "cell_type": "markdown",
   "id": "dbbf4b10",
   "metadata": {},
   "source": [
    "![%E6%88%AA%E5%B1%8F2022-02-21%20%E4%B8%8A%E5%8D%881.34.45.png](attachment:%E6%88%AA%E5%B1%8F2022-02-21%20%E4%B8%8A%E5%8D%881.34.45.png)"
   ]
  },
  {
   "cell_type": "code",
   "execution_count": 87,
   "id": "0b0e2f5d",
   "metadata": {},
   "outputs": [],
   "source": [
    "import random"
   ]
  },
  {
   "cell_type": "markdown",
   "id": "b5f2b6ce",
   "metadata": {},
   "source": [
    "### a."
   ]
  },
  {
   "cell_type": "code",
   "execution_count": 88,
   "id": "b082ca9d",
   "metadata": {},
   "outputs": [],
   "source": [
    "def diceRoll(num_trials):\n",
    "    min = 1\n",
    "    max = 6\n",
    "    trails_num_dolls = []\n",
    "    trails_results = []\n",
    "    \n",
    "    for i in range(num_trials):\n",
    "        first_roll_1 = random.randint(min, max)\n",
    "        first_roll_2 = random.randint(min, max)\n",
    "        first_roll_sum = first_roll_1 + first_roll_2\n",
    "        num_dolls = 1\n",
    "        if first_roll_sum == 7 or first_roll_sum == 11:\n",
    "            result = 'Win'\n",
    "        else:\n",
    "            if first_roll_sum == 2 or first_roll_sum == 3 or first_roll_sum == 12:\n",
    "                result = 'Lose'\n",
    "            else:\n",
    "                while num_dolls >= 1:\n",
    "                    new_roll_1 = random.randint(min, max)\n",
    "                    new_roll_2 = random.randint(min, max)\n",
    "                    new_roll_sum = new_roll_1 + new_roll_2\n",
    "                    num_dolls += 1\n",
    "                    if new_roll_sum == 7:\n",
    "                        result = 'Lose'\n",
    "                        break\n",
    "                    else:\n",
    "                        if new_roll_sum == first_roll_sum:\n",
    "                            result = 'Win'\"\"\n",
    "                            break\n",
    "        trails_num_dolls.append(num_dolls)\n",
    "        trails_results.append(result)\n",
    "    return trails_num_dolls, trails_results"
   ]
  },
  {
   "cell_type": "code",
   "execution_count": 89,
   "id": "f584e433",
   "metadata": {},
   "outputs": [
    {
     "name": "stdout",
     "output_type": "stream",
     "text": [
      "number of dice rolls =  [8] result =  ['Lose']\n"
     ]
    }
   ],
   "source": [
    "trails_num_dolls, trails_results = diceRoll(1)\n",
    "print('number of dice rolls = ', trails_num_dolls, 'result = ', trails_results)"
   ]
  },
  {
   "cell_type": "markdown",
   "id": "0bd1038c",
   "metadata": {},
   "source": [
    "### b."
   ]
  },
  {
   "cell_type": "code",
   "execution_count": 90,
   "id": "260b6d14",
   "metadata": {},
   "outputs": [
    {
     "data": {
      "text/plain": [
       "3.295"
      ]
     },
     "execution_count": 90,
     "metadata": {},
     "output_type": "execute_result"
    }
   ],
   "source": [
    "sim = diceRoll(2000)\n",
    "avg_num_dice_roll = np.average(sim[0])\n",
    "avg_num_dice_roll"
   ]
  },
  {
   "cell_type": "code",
   "execution_count": 91,
   "id": "3f93269c",
   "metadata": {},
   "outputs": [
    {
     "data": {
      "text/plain": [
       "0.4775"
      ]
     },
     "execution_count": 91,
     "metadata": {},
     "output_type": "execute_result"
    }
   ],
   "source": [
    "avg_winnings = sum(map(lambda x : x == 'Win', sim[1]))/len(sim[1])\n",
    "avg_winnings"
   ]
  },
  {
   "cell_type": "markdown",
   "id": "5cbe7738",
   "metadata": {},
   "source": [
    "The number of trials is 2000, we get the average number of dice rolls in a Craps game is 3.2455 and the estimated probability of winning is 0.4835."
   ]
  }
 ],
 "metadata": {
  "kernelspec": {
   "display_name": "Python 3",
   "language": "python",
   "name": "python3"
  },
  "language_info": {
   "codemirror_mode": {
    "name": "ipython",
    "version": 3
   },
   "file_extension": ".py",
   "mimetype": "text/x-python",
   "name": "python",
   "nbconvert_exporter": "python",
   "pygments_lexer": "ipython3",
   "version": "3.8.8"
  }
 },
 "nbformat": 4,
 "nbformat_minor": 5
}
